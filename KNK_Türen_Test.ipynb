{
  "cells": [
    {
      "cell_type": "markdown",
      "metadata": {
        "id": "view-in-github",
        "colab_type": "text"
      },
      "source": [
        "<a href=\"https://colab.research.google.com/github/shicong0720/Revit-Optimization/blob/main/KNK_T%C3%BCren_Test.ipynb\" target=\"_parent\"><img src=\"https://colab.research.google.com/assets/colab-badge.svg\" alt=\"Open In Colab\"/></a>"
      ]
    },
    {
      "cell_type": "markdown",
      "id": "8ebd4364",
      "metadata": {
        "id": "8ebd4364"
      },
      "source": [
        "# Multinomial Naïve Bayes Classifier - KNK Türen Test"
      ]
    },
    {
      "cell_type": "markdown",
      "id": "053831be",
      "metadata": {
        "id": "053831be"
      },
      "source": [
        "### Introducing the database"
      ]
    },
    {
      "cell_type": "markdown",
      "id": "329b3cb7",
      "metadata": {
        "id": "329b3cb7"
      },
      "source": [
        "The database for this example is taken from https://archive.ics.uci.edu/ml/machine-learning-databases/00380/ "
      ]
    },
    {
      "cell_type": "markdown",
      "id": "0c85d311",
      "metadata": {
        "id": "0c85d311"
      },
      "source": [
        "We usually modify the databases slightly such that they fit the purpose of the course. Therefore, we suggest you use the database provided in the resources in order to obtain the same results as the ones in the lectures."
      ]
    },
    {
      "cell_type": "markdown",
      "id": "e299f9e4",
      "metadata": {
        "id": "e299f9e4"
      },
      "source": [
        "### Importing the necessary libraries"
      ]
    },
    {
      "cell_type": "code",
      "execution_count": null,
      "id": "7ca2a0dc",
      "metadata": {
        "id": "7ca2a0dc"
      },
      "outputs": [],
      "source": [
        "# A module for handling data\n",
        "import pandas as pd\n",
        "# A module that helps finding all pathnames that match a certain pattern\n",
        "import glob\n",
        "\n",
        "# A class that will be used to count the number of times a word has occurred in a text\n",
        "from sklearn.feature_extraction.text import CountVectorizer\n",
        "\n",
        "# A method used to split the dataset into training and testing\n",
        "from sklearn.model_selection import train_test_split\n",
        "\n",
        "# The multinomial type of the Naive Bayes classfier\n",
        "from sklearn.naive_bayes import MultinomialNB, ComplementNB\n",
        "\n",
        "# Importing different metrics that would allow us to evaluate our model\n",
        "from sklearn.metrics import classification_report, ConfusionMatrixDisplay\n",
        "\n",
        "# Python's plotting module. \n",
        "# We improve the graphics by overriding the default matplotlib styles with those of seaborn\n",
        "import matplotlib.pyplot as plt\n",
        "import seaborn as sns\n",
        "\n",
        "# The Python package for scientific computing\n",
        "import numpy as np"
      ]
    },
    {
      "cell_type": "markdown",
      "id": "ec59c4c3",
      "metadata": {
        "id": "ec59c4c3"
      },
      "source": [
        "### Reading the database"
      ]
    },
    {
      "cell_type": "code",
      "source": [
        "file = pd.read_csv(\"Rohrrahmentüren Tables Vergleich_both departments_X.txt\", sep=';' ,encoding='utf-8')\n",
        "file"
      ],
      "metadata": {
        "colab": {
          "base_uri": "https://localhost:8080/",
          "height": 539
        },
        "id": "JY5KMb50dU_C",
        "outputId": "fbd18669-12a4-4072-cb16-b6bab4a6991d"
      },
      "id": "JY5KMb50dU_C",
      "execution_count": null,
      "outputs": [
        {
          "output_type": "execute_result",
          "data": {
            "text/plain": [
              "     ARC_Tuertyp ARC_Tuernummer                 ARC_Raumname  \\\n",
              "0             60    50.00.011.A  Warten/ Patientenaufenthalt   \n",
              "1            400    50.00.103.A             Besprechungsraum   \n",
              "2             10    50.00.111.A                   U + B Raum   \n",
              "3             11    50.00.112.A                 Sprechzimmer   \n",
              "4             10    50.00.113.A   Warten gehfähige Patienten   \n",
              "...          ...            ...                          ...   \n",
              "1288          10    50.U2.TH3.A                       TRH 03   \n",
              "1289          10    50.U2.TH3.B                       TRH 03   \n",
              "1290          10    50.U2.TH4.A                       TRH 04   \n",
              "1291          10    50.U2.TH4.B                       TRH 04   \n",
              "1292         NaN            NaN                          NaN   \n",
              "\n",
              "     Typ:ARC_Breite_RBOEM Typ:ARC_Hoehe_RBOEM ARC_Schallschutz ARC_Tuerart  \\\n",
              "0                     4,2                   3                -         FSV   \n",
              "1                     NaN                 NaN               37      DT-1FL   \n",
              "2                   1,385               2,135               37      ST-1FL   \n",
              "3                   1,135               2,785               37      DT-1FL   \n",
              "4                   1,135               2,135               32      DT-1FL   \n",
              "...                   ...                 ...              ...         ...   \n",
              "1288                1,385               2,135                -      DT-1FL   \n",
              "1289                 1,26               2,135                -      DT-1FL   \n",
              "1290                1,385               2,135                -      DT-1FL   \n",
              "1291                 1,26               2,135                -      DT-1FL   \n",
              "1292                  NaN                 NaN              NaN         NaN   \n",
              "\n",
              "     ARC_Schließsystem ARC_Zutrittskontrolle ARC_Feuerwiderstandsklasse  ...  \\\n",
              "0                   OF                     -                    FSA T90  ...   \n",
              "1                    -                     K                        T00  ...   \n",
              "2                  AUT                     -                        T00  ...   \n",
              "3                    -                     -                        T00  ...   \n",
              "4                    -                     K                        T00  ...   \n",
              "...                ...                   ...                        ...  ...   \n",
              "1288               OTS                     -                     T00-RS  ...   \n",
              "1289               OTS                     -                     T30-RS  ...   \n",
              "1290               OTS                     -                     T00-RS  ...   \n",
              "1291               OTS                     -                     T30-RS  ...   \n",
              "1292               NaN                   NaN                        NaN  ...   \n",
              "\n",
              "     Unnamed: 78 Unnamed: 79 Unnamed: 80  Unnamed: 81  Unnamed: 82  \\\n",
              "0            NaN         NaN         NaN          NaN          NaN   \n",
              "1            NaN         NaN         NaN          NaN          NaN   \n",
              "2            NaN         NaN         NaN          NaN          NaN   \n",
              "3            NaN         NaN         NaN          NaN          NaN   \n",
              "4            NaN         NaN         NaN          NaN          NaN   \n",
              "...          ...         ...         ...          ...          ...   \n",
              "1288         NaN         NaN         NaN          NaN          NaN   \n",
              "1289         NaN         NaN         NaN          NaN          NaN   \n",
              "1290         NaN         NaN         NaN          NaN          NaN   \n",
              "1291         NaN         NaN         NaN          NaN          NaN   \n",
              "1292         NaN         NaN         NaN          NaN          NaN   \n",
              "\n",
              "      Unnamed: 83  Unnamed: 84  Unnamed: 85  Unnamed: 86  Unnamed: 87  \n",
              "0             NaN          NaN          NaN          NaN          NaN  \n",
              "1             NaN          NaN          NaN          NaN          NaN  \n",
              "2             NaN          NaN          NaN          NaN          NaN  \n",
              "3             NaN          NaN          NaN          NaN          NaN  \n",
              "4             NaN          NaN          NaN          NaN          NaN  \n",
              "...           ...          ...          ...          ...          ...  \n",
              "1288          NaN          NaN          NaN          NaN          NaN  \n",
              "1289          NaN          NaN          NaN          NaN          NaN  \n",
              "1290          NaN          NaN          NaN          NaN          NaN  \n",
              "1291          NaN          NaN          NaN          NaN          NaN  \n",
              "1292          NaN          NaN          NaN          NaN          NaN  \n",
              "\n",
              "[1293 rows x 88 columns]"
            ],
            "text/html": [
              "\n",
              "  <div id=\"df-4d45074e-35ef-484e-9a22-48d1228581d1\">\n",
              "    <div class=\"colab-df-container\">\n",
              "      <div>\n",
              "<style scoped>\n",
              "    .dataframe tbody tr th:only-of-type {\n",
              "        vertical-align: middle;\n",
              "    }\n",
              "\n",
              "    .dataframe tbody tr th {\n",
              "        vertical-align: top;\n",
              "    }\n",
              "\n",
              "    .dataframe thead th {\n",
              "        text-align: right;\n",
              "    }\n",
              "</style>\n",
              "<table border=\"1\" class=\"dataframe\">\n",
              "  <thead>\n",
              "    <tr style=\"text-align: right;\">\n",
              "      <th></th>\n",
              "      <th>ARC_Tuertyp</th>\n",
              "      <th>ARC_Tuernummer</th>\n",
              "      <th>ARC_Raumname</th>\n",
              "      <th>Typ:ARC_Breite_RBOEM</th>\n",
              "      <th>Typ:ARC_Hoehe_RBOEM</th>\n",
              "      <th>ARC_Schallschutz</th>\n",
              "      <th>ARC_Tuerart</th>\n",
              "      <th>ARC_Schließsystem</th>\n",
              "      <th>ARC_Zutrittskontrolle</th>\n",
              "      <th>ARC_Feuerwiderstandsklasse</th>\n",
              "      <th>...</th>\n",
              "      <th>Unnamed: 78</th>\n",
              "      <th>Unnamed: 79</th>\n",
              "      <th>Unnamed: 80</th>\n",
              "      <th>Unnamed: 81</th>\n",
              "      <th>Unnamed: 82</th>\n",
              "      <th>Unnamed: 83</th>\n",
              "      <th>Unnamed: 84</th>\n",
              "      <th>Unnamed: 85</th>\n",
              "      <th>Unnamed: 86</th>\n",
              "      <th>Unnamed: 87</th>\n",
              "    </tr>\n",
              "  </thead>\n",
              "  <tbody>\n",
              "    <tr>\n",
              "      <th>0</th>\n",
              "      <td>60</td>\n",
              "      <td>50.00.011.A</td>\n",
              "      <td>Warten/ Patientenaufenthalt</td>\n",
              "      <td>4,2</td>\n",
              "      <td>3</td>\n",
              "      <td>-</td>\n",
              "      <td>FSV</td>\n",
              "      <td>OF</td>\n",
              "      <td>-</td>\n",
              "      <td>FSA T90</td>\n",
              "      <td>...</td>\n",
              "      <td>NaN</td>\n",
              "      <td>NaN</td>\n",
              "      <td>NaN</td>\n",
              "      <td>NaN</td>\n",
              "      <td>NaN</td>\n",
              "      <td>NaN</td>\n",
              "      <td>NaN</td>\n",
              "      <td>NaN</td>\n",
              "      <td>NaN</td>\n",
              "      <td>NaN</td>\n",
              "    </tr>\n",
              "    <tr>\n",
              "      <th>1</th>\n",
              "      <td>400</td>\n",
              "      <td>50.00.103.A</td>\n",
              "      <td>Besprechungsraum</td>\n",
              "      <td>NaN</td>\n",
              "      <td>NaN</td>\n",
              "      <td>37</td>\n",
              "      <td>DT-1FL</td>\n",
              "      <td>-</td>\n",
              "      <td>K</td>\n",
              "      <td>T00</td>\n",
              "      <td>...</td>\n",
              "      <td>NaN</td>\n",
              "      <td>NaN</td>\n",
              "      <td>NaN</td>\n",
              "      <td>NaN</td>\n",
              "      <td>NaN</td>\n",
              "      <td>NaN</td>\n",
              "      <td>NaN</td>\n",
              "      <td>NaN</td>\n",
              "      <td>NaN</td>\n",
              "      <td>NaN</td>\n",
              "    </tr>\n",
              "    <tr>\n",
              "      <th>2</th>\n",
              "      <td>10</td>\n",
              "      <td>50.00.111.A</td>\n",
              "      <td>U + B Raum</td>\n",
              "      <td>1,385</td>\n",
              "      <td>2,135</td>\n",
              "      <td>37</td>\n",
              "      <td>ST-1FL</td>\n",
              "      <td>AUT</td>\n",
              "      <td>-</td>\n",
              "      <td>T00</td>\n",
              "      <td>...</td>\n",
              "      <td>NaN</td>\n",
              "      <td>NaN</td>\n",
              "      <td>NaN</td>\n",
              "      <td>NaN</td>\n",
              "      <td>NaN</td>\n",
              "      <td>NaN</td>\n",
              "      <td>NaN</td>\n",
              "      <td>NaN</td>\n",
              "      <td>NaN</td>\n",
              "      <td>NaN</td>\n",
              "    </tr>\n",
              "    <tr>\n",
              "      <th>3</th>\n",
              "      <td>11</td>\n",
              "      <td>50.00.112.A</td>\n",
              "      <td>Sprechzimmer</td>\n",
              "      <td>1,135</td>\n",
              "      <td>2,785</td>\n",
              "      <td>37</td>\n",
              "      <td>DT-1FL</td>\n",
              "      <td>-</td>\n",
              "      <td>-</td>\n",
              "      <td>T00</td>\n",
              "      <td>...</td>\n",
              "      <td>NaN</td>\n",
              "      <td>NaN</td>\n",
              "      <td>NaN</td>\n",
              "      <td>NaN</td>\n",
              "      <td>NaN</td>\n",
              "      <td>NaN</td>\n",
              "      <td>NaN</td>\n",
              "      <td>NaN</td>\n",
              "      <td>NaN</td>\n",
              "      <td>NaN</td>\n",
              "    </tr>\n",
              "    <tr>\n",
              "      <th>4</th>\n",
              "      <td>10</td>\n",
              "      <td>50.00.113.A</td>\n",
              "      <td>Warten gehfähige Patienten</td>\n",
              "      <td>1,135</td>\n",
              "      <td>2,135</td>\n",
              "      <td>32</td>\n",
              "      <td>DT-1FL</td>\n",
              "      <td>-</td>\n",
              "      <td>K</td>\n",
              "      <td>T00</td>\n",
              "      <td>...</td>\n",
              "      <td>NaN</td>\n",
              "      <td>NaN</td>\n",
              "      <td>NaN</td>\n",
              "      <td>NaN</td>\n",
              "      <td>NaN</td>\n",
              "      <td>NaN</td>\n",
              "      <td>NaN</td>\n",
              "      <td>NaN</td>\n",
              "      <td>NaN</td>\n",
              "      <td>NaN</td>\n",
              "    </tr>\n",
              "    <tr>\n",
              "      <th>...</th>\n",
              "      <td>...</td>\n",
              "      <td>...</td>\n",
              "      <td>...</td>\n",
              "      <td>...</td>\n",
              "      <td>...</td>\n",
              "      <td>...</td>\n",
              "      <td>...</td>\n",
              "      <td>...</td>\n",
              "      <td>...</td>\n",
              "      <td>...</td>\n",
              "      <td>...</td>\n",
              "      <td>...</td>\n",
              "      <td>...</td>\n",
              "      <td>...</td>\n",
              "      <td>...</td>\n",
              "      <td>...</td>\n",
              "      <td>...</td>\n",
              "      <td>...</td>\n",
              "      <td>...</td>\n",
              "      <td>...</td>\n",
              "      <td>...</td>\n",
              "    </tr>\n",
              "    <tr>\n",
              "      <th>1288</th>\n",
              "      <td>10</td>\n",
              "      <td>50.U2.TH3.A</td>\n",
              "      <td>TRH 03</td>\n",
              "      <td>1,385</td>\n",
              "      <td>2,135</td>\n",
              "      <td>-</td>\n",
              "      <td>DT-1FL</td>\n",
              "      <td>OTS</td>\n",
              "      <td>-</td>\n",
              "      <td>T00-RS</td>\n",
              "      <td>...</td>\n",
              "      <td>NaN</td>\n",
              "      <td>NaN</td>\n",
              "      <td>NaN</td>\n",
              "      <td>NaN</td>\n",
              "      <td>NaN</td>\n",
              "      <td>NaN</td>\n",
              "      <td>NaN</td>\n",
              "      <td>NaN</td>\n",
              "      <td>NaN</td>\n",
              "      <td>NaN</td>\n",
              "    </tr>\n",
              "    <tr>\n",
              "      <th>1289</th>\n",
              "      <td>10</td>\n",
              "      <td>50.U2.TH3.B</td>\n",
              "      <td>TRH 03</td>\n",
              "      <td>1,26</td>\n",
              "      <td>2,135</td>\n",
              "      <td>-</td>\n",
              "      <td>DT-1FL</td>\n",
              "      <td>OTS</td>\n",
              "      <td>-</td>\n",
              "      <td>T30-RS</td>\n",
              "      <td>...</td>\n",
              "      <td>NaN</td>\n",
              "      <td>NaN</td>\n",
              "      <td>NaN</td>\n",
              "      <td>NaN</td>\n",
              "      <td>NaN</td>\n",
              "      <td>NaN</td>\n",
              "      <td>NaN</td>\n",
              "      <td>NaN</td>\n",
              "      <td>NaN</td>\n",
              "      <td>NaN</td>\n",
              "    </tr>\n",
              "    <tr>\n",
              "      <th>1290</th>\n",
              "      <td>10</td>\n",
              "      <td>50.U2.TH4.A</td>\n",
              "      <td>TRH 04</td>\n",
              "      <td>1,385</td>\n",
              "      <td>2,135</td>\n",
              "      <td>-</td>\n",
              "      <td>DT-1FL</td>\n",
              "      <td>OTS</td>\n",
              "      <td>-</td>\n",
              "      <td>T00-RS</td>\n",
              "      <td>...</td>\n",
              "      <td>NaN</td>\n",
              "      <td>NaN</td>\n",
              "      <td>NaN</td>\n",
              "      <td>NaN</td>\n",
              "      <td>NaN</td>\n",
              "      <td>NaN</td>\n",
              "      <td>NaN</td>\n",
              "      <td>NaN</td>\n",
              "      <td>NaN</td>\n",
              "      <td>NaN</td>\n",
              "    </tr>\n",
              "    <tr>\n",
              "      <th>1291</th>\n",
              "      <td>10</td>\n",
              "      <td>50.U2.TH4.B</td>\n",
              "      <td>TRH 04</td>\n",
              "      <td>1,26</td>\n",
              "      <td>2,135</td>\n",
              "      <td>-</td>\n",
              "      <td>DT-1FL</td>\n",
              "      <td>OTS</td>\n",
              "      <td>-</td>\n",
              "      <td>T30-RS</td>\n",
              "      <td>...</td>\n",
              "      <td>NaN</td>\n",
              "      <td>NaN</td>\n",
              "      <td>NaN</td>\n",
              "      <td>NaN</td>\n",
              "      <td>NaN</td>\n",
              "      <td>NaN</td>\n",
              "      <td>NaN</td>\n",
              "      <td>NaN</td>\n",
              "      <td>NaN</td>\n",
              "      <td>NaN</td>\n",
              "    </tr>\n",
              "    <tr>\n",
              "      <th>1292</th>\n",
              "      <td>NaN</td>\n",
              "      <td>NaN</td>\n",
              "      <td>NaN</td>\n",
              "      <td>NaN</td>\n",
              "      <td>NaN</td>\n",
              "      <td>NaN</td>\n",
              "      <td>NaN</td>\n",
              "      <td>NaN</td>\n",
              "      <td>NaN</td>\n",
              "      <td>NaN</td>\n",
              "      <td>...</td>\n",
              "      <td>NaN</td>\n",
              "      <td>NaN</td>\n",
              "      <td>NaN</td>\n",
              "      <td>NaN</td>\n",
              "      <td>NaN</td>\n",
              "      <td>NaN</td>\n",
              "      <td>NaN</td>\n",
              "      <td>NaN</td>\n",
              "      <td>NaN</td>\n",
              "      <td>NaN</td>\n",
              "    </tr>\n",
              "  </tbody>\n",
              "</table>\n",
              "<p>1293 rows × 88 columns</p>\n",
              "</div>\n",
              "      <button class=\"colab-df-convert\" onclick=\"convertToInteractive('df-4d45074e-35ef-484e-9a22-48d1228581d1')\"\n",
              "              title=\"Convert this dataframe to an interactive table.\"\n",
              "              style=\"display:none;\">\n",
              "        \n",
              "  <svg xmlns=\"http://www.w3.org/2000/svg\" height=\"24px\"viewBox=\"0 0 24 24\"\n",
              "       width=\"24px\">\n",
              "    <path d=\"M0 0h24v24H0V0z\" fill=\"none\"/>\n",
              "    <path d=\"M18.56 5.44l.94 2.06.94-2.06 2.06-.94-2.06-.94-.94-2.06-.94 2.06-2.06.94zm-11 1L8.5 8.5l.94-2.06 2.06-.94-2.06-.94L8.5 2.5l-.94 2.06-2.06.94zm10 10l.94 2.06.94-2.06 2.06-.94-2.06-.94-.94-2.06-.94 2.06-2.06.94z\"/><path d=\"M17.41 7.96l-1.37-1.37c-.4-.4-.92-.59-1.43-.59-.52 0-1.04.2-1.43.59L10.3 9.45l-7.72 7.72c-.78.78-.78 2.05 0 2.83L4 21.41c.39.39.9.59 1.41.59.51 0 1.02-.2 1.41-.59l7.78-7.78 2.81-2.81c.8-.78.8-2.07 0-2.86zM5.41 20L4 18.59l7.72-7.72 1.47 1.35L5.41 20z\"/>\n",
              "  </svg>\n",
              "      </button>\n",
              "      \n",
              "  <style>\n",
              "    .colab-df-container {\n",
              "      display:flex;\n",
              "      flex-wrap:wrap;\n",
              "      gap: 12px;\n",
              "    }\n",
              "\n",
              "    .colab-df-convert {\n",
              "      background-color: #E8F0FE;\n",
              "      border: none;\n",
              "      border-radius: 50%;\n",
              "      cursor: pointer;\n",
              "      display: none;\n",
              "      fill: #1967D2;\n",
              "      height: 32px;\n",
              "      padding: 0 0 0 0;\n",
              "      width: 32px;\n",
              "    }\n",
              "\n",
              "    .colab-df-convert:hover {\n",
              "      background-color: #E2EBFA;\n",
              "      box-shadow: 0px 1px 2px rgba(60, 64, 67, 0.3), 0px 1px 3px 1px rgba(60, 64, 67, 0.15);\n",
              "      fill: #174EA6;\n",
              "    }\n",
              "\n",
              "    [theme=dark] .colab-df-convert {\n",
              "      background-color: #3B4455;\n",
              "      fill: #D2E3FC;\n",
              "    }\n",
              "\n",
              "    [theme=dark] .colab-df-convert:hover {\n",
              "      background-color: #434B5C;\n",
              "      box-shadow: 0px 1px 3px 1px rgba(0, 0, 0, 0.15);\n",
              "      filter: drop-shadow(0px 1px 2px rgba(0, 0, 0, 0.3));\n",
              "      fill: #FFFFFF;\n",
              "    }\n",
              "  </style>\n",
              "\n",
              "      <script>\n",
              "        const buttonEl =\n",
              "          document.querySelector('#df-4d45074e-35ef-484e-9a22-48d1228581d1 button.colab-df-convert');\n",
              "        buttonEl.style.display =\n",
              "          google.colab.kernel.accessAllowed ? 'block' : 'none';\n",
              "\n",
              "        async function convertToInteractive(key) {\n",
              "          const element = document.querySelector('#df-4d45074e-35ef-484e-9a22-48d1228581d1');\n",
              "          const dataTable =\n",
              "            await google.colab.kernel.invokeFunction('convertToInteractive',\n",
              "                                                     [key], {});\n",
              "          if (!dataTable) return;\n",
              "\n",
              "          const docLinkHtml = 'Like what you see? Visit the ' +\n",
              "            '<a target=\"_blank\" href=https://colab.research.google.com/notebooks/data_table.ipynb>data table notebook</a>'\n",
              "            + ' to learn more about interactive tables.';\n",
              "          element.innerHTML = '';\n",
              "          dataTable['output_type'] = 'display_data';\n",
              "          await google.colab.output.renderOutput(dataTable, element);\n",
              "          const docLink = document.createElement('div');\n",
              "          docLink.innerHTML = docLinkHtml;\n",
              "          element.appendChild(docLink);\n",
              "        }\n",
              "      </script>\n",
              "    </div>\n",
              "  </div>\n",
              "  "
            ]
          },
          "metadata": {},
          "execution_count": 174
        }
      ]
    },
    {
      "cell_type": "markdown",
      "source": [],
      "metadata": {
        "id": "U4bvvAHY4uEn"
      },
      "id": "U4bvvAHY4uEn"
    },
    {
      "cell_type": "code",
      "source": [
        "df = pd.DataFrame(file)\n",
        "df = df.iloc[:,[2,3,4,5,6,7,8,9,10,11]]\n",
        "df = df.fillna('-')\n",
        "df.reset_index(drop = True)"
      ],
      "metadata": {
        "colab": {
          "base_uri": "https://localhost:8080/",
          "height": 609
        },
        "id": "w_RPK-5ts1O-",
        "outputId": "36625740-508e-49f4-db49-7d97887c72fe"
      },
      "id": "w_RPK-5ts1O-",
      "execution_count": null,
      "outputs": [
        {
          "output_type": "execute_result",
          "data": {
            "text/plain": [
              "                     ARC_Raumname Typ:ARC_Breite_RBOEM Typ:ARC_Hoehe_RBOEM  \\\n",
              "0     Warten/ Patientenaufenthalt                  4,2                   3   \n",
              "1                Besprechungsraum                    -                   -   \n",
              "2                      U + B Raum                1,385               2,135   \n",
              "3                    Sprechzimmer                1,135               2,785   \n",
              "4      Warten gehfähige Patienten                1,135               2,135   \n",
              "...                           ...                  ...                 ...   \n",
              "1288                       TRH 03                1,385               2,135   \n",
              "1289                       TRH 03                 1,26               2,135   \n",
              "1290                       TRH 04                1,385               2,135   \n",
              "1291                       TRH 04                 1,26               2,135   \n",
              "1292                            -                    -                   -   \n",
              "\n",
              "     ARC_Schallschutz ARC_Tuerart ARC_Schließsystem ARC_Zutrittskontrolle  \\\n",
              "0                   -         FSV                OF                     -   \n",
              "1                  37      DT-1FL                 -                     K   \n",
              "2                  37      ST-1FL               AUT                     -   \n",
              "3                  37      DT-1FL                 -                     -   \n",
              "4                  32      DT-1FL                 -                     K   \n",
              "...               ...         ...               ...                   ...   \n",
              "1288                -      DT-1FL               OTS                     -   \n",
              "1289                -      DT-1FL               OTS                     -   \n",
              "1290                -      DT-1FL               OTS                     -   \n",
              "1291                -      DT-1FL               OTS                     -   \n",
              "1292                -           -                 -                     -   \n",
              "\n",
              "     ARC_Feuerwiderstandsklasse    Aus Raum:ARC_Nutzung  \\\n",
              "0                       FSA T90          Verkehrsfläche   \n",
              "1                           T00              Endoskopie   \n",
              "2                           T00              Endoskopie   \n",
              "3                           T00              Endoskopie   \n",
              "4                           T00              Endoskopie   \n",
              "...                         ...                     ...   \n",
              "1288                     T00-RS  vertikale Erschließung   \n",
              "1289                     T30-RS          Verkehrsfläche   \n",
              "1290                     T00-RS  vertikale Erschließung   \n",
              "1291                     T30-RS          Verkehrsfläche   \n",
              "1292                          -                       -   \n",
              "\n",
              "         In Raum:ARC_Nutzung  \n",
              "0                 Endoskopie  \n",
              "1                 Endoskopie  \n",
              "2             Verkehrsfläche  \n",
              "3                 Endoskopie  \n",
              "4                 Endoskopie  \n",
              "...                      ...  \n",
              "1288          Verkehrsfläche  \n",
              "1289  vertikale Erschließung  \n",
              "1290          Verkehrsfläche  \n",
              "1291  vertikale Erschließung  \n",
              "1292                       -  \n",
              "\n",
              "[1293 rows x 10 columns]"
            ],
            "text/html": [
              "\n",
              "  <div id=\"df-6d242110-e538-408a-973a-15bc76bb6012\">\n",
              "    <div class=\"colab-df-container\">\n",
              "      <div>\n",
              "<style scoped>\n",
              "    .dataframe tbody tr th:only-of-type {\n",
              "        vertical-align: middle;\n",
              "    }\n",
              "\n",
              "    .dataframe tbody tr th {\n",
              "        vertical-align: top;\n",
              "    }\n",
              "\n",
              "    .dataframe thead th {\n",
              "        text-align: right;\n",
              "    }\n",
              "</style>\n",
              "<table border=\"1\" class=\"dataframe\">\n",
              "  <thead>\n",
              "    <tr style=\"text-align: right;\">\n",
              "      <th></th>\n",
              "      <th>ARC_Raumname</th>\n",
              "      <th>Typ:ARC_Breite_RBOEM</th>\n",
              "      <th>Typ:ARC_Hoehe_RBOEM</th>\n",
              "      <th>ARC_Schallschutz</th>\n",
              "      <th>ARC_Tuerart</th>\n",
              "      <th>ARC_Schließsystem</th>\n",
              "      <th>ARC_Zutrittskontrolle</th>\n",
              "      <th>ARC_Feuerwiderstandsklasse</th>\n",
              "      <th>Aus Raum:ARC_Nutzung</th>\n",
              "      <th>In Raum:ARC_Nutzung</th>\n",
              "    </tr>\n",
              "  </thead>\n",
              "  <tbody>\n",
              "    <tr>\n",
              "      <th>0</th>\n",
              "      <td>Warten/ Patientenaufenthalt</td>\n",
              "      <td>4,2</td>\n",
              "      <td>3</td>\n",
              "      <td>-</td>\n",
              "      <td>FSV</td>\n",
              "      <td>OF</td>\n",
              "      <td>-</td>\n",
              "      <td>FSA T90</td>\n",
              "      <td>Verkehrsfläche</td>\n",
              "      <td>Endoskopie</td>\n",
              "    </tr>\n",
              "    <tr>\n",
              "      <th>1</th>\n",
              "      <td>Besprechungsraum</td>\n",
              "      <td>-</td>\n",
              "      <td>-</td>\n",
              "      <td>37</td>\n",
              "      <td>DT-1FL</td>\n",
              "      <td>-</td>\n",
              "      <td>K</td>\n",
              "      <td>T00</td>\n",
              "      <td>Endoskopie</td>\n",
              "      <td>Endoskopie</td>\n",
              "    </tr>\n",
              "    <tr>\n",
              "      <th>2</th>\n",
              "      <td>U + B Raum</td>\n",
              "      <td>1,385</td>\n",
              "      <td>2,135</td>\n",
              "      <td>37</td>\n",
              "      <td>ST-1FL</td>\n",
              "      <td>AUT</td>\n",
              "      <td>-</td>\n",
              "      <td>T00</td>\n",
              "      <td>Endoskopie</td>\n",
              "      <td>Verkehrsfläche</td>\n",
              "    </tr>\n",
              "    <tr>\n",
              "      <th>3</th>\n",
              "      <td>Sprechzimmer</td>\n",
              "      <td>1,135</td>\n",
              "      <td>2,785</td>\n",
              "      <td>37</td>\n",
              "      <td>DT-1FL</td>\n",
              "      <td>-</td>\n",
              "      <td>-</td>\n",
              "      <td>T00</td>\n",
              "      <td>Endoskopie</td>\n",
              "      <td>Endoskopie</td>\n",
              "    </tr>\n",
              "    <tr>\n",
              "      <th>4</th>\n",
              "      <td>Warten gehfähige Patienten</td>\n",
              "      <td>1,135</td>\n",
              "      <td>2,135</td>\n",
              "      <td>32</td>\n",
              "      <td>DT-1FL</td>\n",
              "      <td>-</td>\n",
              "      <td>K</td>\n",
              "      <td>T00</td>\n",
              "      <td>Endoskopie</td>\n",
              "      <td>Endoskopie</td>\n",
              "    </tr>\n",
              "    <tr>\n",
              "      <th>...</th>\n",
              "      <td>...</td>\n",
              "      <td>...</td>\n",
              "      <td>...</td>\n",
              "      <td>...</td>\n",
              "      <td>...</td>\n",
              "      <td>...</td>\n",
              "      <td>...</td>\n",
              "      <td>...</td>\n",
              "      <td>...</td>\n",
              "      <td>...</td>\n",
              "    </tr>\n",
              "    <tr>\n",
              "      <th>1288</th>\n",
              "      <td>TRH 03</td>\n",
              "      <td>1,385</td>\n",
              "      <td>2,135</td>\n",
              "      <td>-</td>\n",
              "      <td>DT-1FL</td>\n",
              "      <td>OTS</td>\n",
              "      <td>-</td>\n",
              "      <td>T00-RS</td>\n",
              "      <td>vertikale Erschließung</td>\n",
              "      <td>Verkehrsfläche</td>\n",
              "    </tr>\n",
              "    <tr>\n",
              "      <th>1289</th>\n",
              "      <td>TRH 03</td>\n",
              "      <td>1,26</td>\n",
              "      <td>2,135</td>\n",
              "      <td>-</td>\n",
              "      <td>DT-1FL</td>\n",
              "      <td>OTS</td>\n",
              "      <td>-</td>\n",
              "      <td>T30-RS</td>\n",
              "      <td>Verkehrsfläche</td>\n",
              "      <td>vertikale Erschließung</td>\n",
              "    </tr>\n",
              "    <tr>\n",
              "      <th>1290</th>\n",
              "      <td>TRH 04</td>\n",
              "      <td>1,385</td>\n",
              "      <td>2,135</td>\n",
              "      <td>-</td>\n",
              "      <td>DT-1FL</td>\n",
              "      <td>OTS</td>\n",
              "      <td>-</td>\n",
              "      <td>T00-RS</td>\n",
              "      <td>vertikale Erschließung</td>\n",
              "      <td>Verkehrsfläche</td>\n",
              "    </tr>\n",
              "    <tr>\n",
              "      <th>1291</th>\n",
              "      <td>TRH 04</td>\n",
              "      <td>1,26</td>\n",
              "      <td>2,135</td>\n",
              "      <td>-</td>\n",
              "      <td>DT-1FL</td>\n",
              "      <td>OTS</td>\n",
              "      <td>-</td>\n",
              "      <td>T30-RS</td>\n",
              "      <td>Verkehrsfläche</td>\n",
              "      <td>vertikale Erschließung</td>\n",
              "    </tr>\n",
              "    <tr>\n",
              "      <th>1292</th>\n",
              "      <td>-</td>\n",
              "      <td>-</td>\n",
              "      <td>-</td>\n",
              "      <td>-</td>\n",
              "      <td>-</td>\n",
              "      <td>-</td>\n",
              "      <td>-</td>\n",
              "      <td>-</td>\n",
              "      <td>-</td>\n",
              "      <td>-</td>\n",
              "    </tr>\n",
              "  </tbody>\n",
              "</table>\n",
              "<p>1293 rows × 10 columns</p>\n",
              "</div>\n",
              "      <button class=\"colab-df-convert\" onclick=\"convertToInteractive('df-6d242110-e538-408a-973a-15bc76bb6012')\"\n",
              "              title=\"Convert this dataframe to an interactive table.\"\n",
              "              style=\"display:none;\">\n",
              "        \n",
              "  <svg xmlns=\"http://www.w3.org/2000/svg\" height=\"24px\"viewBox=\"0 0 24 24\"\n",
              "       width=\"24px\">\n",
              "    <path d=\"M0 0h24v24H0V0z\" fill=\"none\"/>\n",
              "    <path d=\"M18.56 5.44l.94 2.06.94-2.06 2.06-.94-2.06-.94-.94-2.06-.94 2.06-2.06.94zm-11 1L8.5 8.5l.94-2.06 2.06-.94-2.06-.94L8.5 2.5l-.94 2.06-2.06.94zm10 10l.94 2.06.94-2.06 2.06-.94-2.06-.94-.94-2.06-.94 2.06-2.06.94z\"/><path d=\"M17.41 7.96l-1.37-1.37c-.4-.4-.92-.59-1.43-.59-.52 0-1.04.2-1.43.59L10.3 9.45l-7.72 7.72c-.78.78-.78 2.05 0 2.83L4 21.41c.39.39.9.59 1.41.59.51 0 1.02-.2 1.41-.59l7.78-7.78 2.81-2.81c.8-.78.8-2.07 0-2.86zM5.41 20L4 18.59l7.72-7.72 1.47 1.35L5.41 20z\"/>\n",
              "  </svg>\n",
              "      </button>\n",
              "      \n",
              "  <style>\n",
              "    .colab-df-container {\n",
              "      display:flex;\n",
              "      flex-wrap:wrap;\n",
              "      gap: 12px;\n",
              "    }\n",
              "\n",
              "    .colab-df-convert {\n",
              "      background-color: #E8F0FE;\n",
              "      border: none;\n",
              "      border-radius: 50%;\n",
              "      cursor: pointer;\n",
              "      display: none;\n",
              "      fill: #1967D2;\n",
              "      height: 32px;\n",
              "      padding: 0 0 0 0;\n",
              "      width: 32px;\n",
              "    }\n",
              "\n",
              "    .colab-df-convert:hover {\n",
              "      background-color: #E2EBFA;\n",
              "      box-shadow: 0px 1px 2px rgba(60, 64, 67, 0.3), 0px 1px 3px 1px rgba(60, 64, 67, 0.15);\n",
              "      fill: #174EA6;\n",
              "    }\n",
              "\n",
              "    [theme=dark] .colab-df-convert {\n",
              "      background-color: #3B4455;\n",
              "      fill: #D2E3FC;\n",
              "    }\n",
              "\n",
              "    [theme=dark] .colab-df-convert:hover {\n",
              "      background-color: #434B5C;\n",
              "      box-shadow: 0px 1px 3px 1px rgba(0, 0, 0, 0.15);\n",
              "      filter: drop-shadow(0px 1px 2px rgba(0, 0, 0, 0.3));\n",
              "      fill: #FFFFFF;\n",
              "    }\n",
              "  </style>\n",
              "\n",
              "      <script>\n",
              "        const buttonEl =\n",
              "          document.querySelector('#df-6d242110-e538-408a-973a-15bc76bb6012 button.colab-df-convert');\n",
              "        buttonEl.style.display =\n",
              "          google.colab.kernel.accessAllowed ? 'block' : 'none';\n",
              "\n",
              "        async function convertToInteractive(key) {\n",
              "          const element = document.querySelector('#df-6d242110-e538-408a-973a-15bc76bb6012');\n",
              "          const dataTable =\n",
              "            await google.colab.kernel.invokeFunction('convertToInteractive',\n",
              "                                                     [key], {});\n",
              "          if (!dataTable) return;\n",
              "\n",
              "          const docLinkHtml = 'Like what you see? Visit the ' +\n",
              "            '<a target=\"_blank\" href=https://colab.research.google.com/notebooks/data_table.ipynb>data table notebook</a>'\n",
              "            + ' to learn more about interactive tables.';\n",
              "          element.innerHTML = '';\n",
              "          dataTable['output_type'] = 'display_data';\n",
              "          await google.colab.output.renderOutput(dataTable, element);\n",
              "          const docLink = document.createElement('div');\n",
              "          docLink.innerHTML = docLinkHtml;\n",
              "          element.appendChild(docLink);\n",
              "        }\n",
              "      </script>\n",
              "    </div>\n",
              "  </div>\n",
              "  "
            ]
          },
          "metadata": {},
          "execution_count": 207
        }
      ]
    },
    {
      "cell_type": "code",
      "source": [
        "df.drop(df.tail(1).index,\n",
        "        inplace = True)"
      ],
      "metadata": {
        "id": "uZtGTnIBHDxM"
      },
      "id": "uZtGTnIBHDxM",
      "execution_count": null,
      "outputs": []
    },
    {
      "cell_type": "markdown",
      "source": [
        "## Text Processing"
      ],
      "metadata": {
        "id": "GhTOpLF2zj4E"
      },
      "id": "GhTOpLF2zj4E"
    },
    {
      "cell_type": "code",
      "source": [
        "df[\"Input\"] = df[['ARC_Raumname','Aus Raum:ARC_Nutzung','Typ:ARC_Hoehe_RBOEM']].agg(' '.join, axis=1)"
      ],
      "metadata": {
        "id": "ObyPh6Xc4J9Z"
      },
      "id": "ObyPh6Xc4J9Z",
      "execution_count": null,
      "outputs": []
    },
    {
      "cell_type": "code",
      "execution_count": null,
      "id": "6e7d4ad1",
      "metadata": {
        "id": "6e7d4ad1"
      },
      "outputs": [],
      "source": [
        "# Define the inputs and the target\n",
        "inputs = df['Input']\n",
        "target = df['ARC_Tuerart']"
      ]
    },
    {
      "cell_type": "code",
      "execution_count": null,
      "id": "5bfcd1ea",
      "metadata": {
        "id": "5bfcd1ea"
      },
      "outputs": [],
      "source": [
        "# Create a training and a testing dataset.\n",
        "# Choose the test size such that 20% of the data goes to testing.\n",
        "# Since 'train_test_split()' distributes the points randomly, we set a seed equal to 365\n",
        "# so that the final results are identical each time we run the split.\n",
        "# The 'stratify' argument allows for splitting the data in such a way that\n",
        "# the training and the testing datasets contain an equal portion of samples\n",
        "# from both classes.\n",
        "x_train, x_test, y_train, y_test = train_test_split(inputs, target, \n",
        "                                                    test_size=0.2, \n",
        "                                                    random_state=42)"
      ]
    },
    {
      "cell_type": "markdown",
      "id": "14e8a85e",
      "metadata": {
        "id": "14e8a85e"
      },
      "source": [
        "### Tokenizing the YouTube comments"
      ]
    },
    {
      "cell_type": "code",
      "execution_count": null,
      "id": "7b8d139d",
      "metadata": {
        "id": "7b8d139d"
      },
      "outputs": [],
      "source": [
        "# Create an instance of the vectorizer class.\n",
        "vectorizer = CountVectorizer()"
      ]
    },
    {
      "cell_type": "code",
      "execution_count": null,
      "id": "297e9317",
      "metadata": {
        "id": "297e9317"
      },
      "outputs": [],
      "source": [
        "# Apply the fit_transform() method on the training data and the transform() method on the test data.\n",
        "# Note that we split the data *before* applying the 'fit_tranform()' method!\n",
        "# The 'fit_transform()' method is to be applied *only* on the training data!\n",
        "x_train_transf = vectorizer.fit_transform(x_train)\n",
        "x_test_transf = vectorizer.transform(x_test)"
      ]
    },
    {
      "cell_type": "code",
      "execution_count": null,
      "id": "619d169e",
      "metadata": {
        "id": "619d169e",
        "colab": {
          "base_uri": "https://localhost:8080/"
        },
        "outputId": "8c07d29e-a68e-4281-f448-47e0decdebe7"
      },
      "outputs": [
        {
          "output_type": "execute_result",
          "data": {
            "text/plain": [
              "array([[0, 0, 0, ..., 0, 0, 0],\n",
              "       [0, 0, 0, ..., 0, 0, 0],\n",
              "       [0, 0, 0, ..., 0, 0, 0],\n",
              "       ...,\n",
              "       [0, 0, 0, ..., 0, 0, 0],\n",
              "       [0, 0, 0, ..., 0, 0, 0],\n",
              "       [0, 1, 0, ..., 0, 0, 0]])"
            ]
          },
          "metadata": {},
          "execution_count": 330
        }
      ],
      "source": [
        "# Check how the 'x_train_transf' matrix looks like.\n",
        "# It is a sparse matrix i.e., contains mainly zeros.\n",
        "x_train_transf.toarray()"
      ]
    },
    {
      "cell_type": "code",
      "execution_count": null,
      "id": "b568b208",
      "metadata": {
        "id": "b568b208",
        "colab": {
          "base_uri": "https://localhost:8080/"
        },
        "outputId": "36cd27d1-18a9-4143-81bb-da6dca51b064"
      },
      "outputs": [
        {
          "output_type": "execute_result",
          "data": {
            "text/plain": [
              "(1034, 293)"
            ]
          },
          "metadata": {},
          "execution_count": 331
        }
      ],
      "source": [
        "# 1564 refers to all comments in the training dataset.\n",
        "# 3925 refers to all words that have been tokenized.\n",
        "x_train_transf.shape"
      ]
    },
    {
      "cell_type": "code",
      "execution_count": null,
      "id": "01926f32",
      "metadata": {
        "id": "01926f32",
        "colab": {
          "base_uri": "https://localhost:8080/"
        },
        "outputId": "8400931c-b56a-4531-a1cf-b6ffb54dc5b0"
      },
      "outputs": [
        {
          "output_type": "execute_result",
          "data": {
            "text/plain": [
              "(259, 293)"
            ]
          },
          "metadata": {},
          "execution_count": 332
        }
      ],
      "source": [
        "# 391 refers to all comments in the test dataset.\n",
        "# 3925 refers to all words that have been tokenized during the fitting process.\n",
        "x_test_transf.shape"
      ]
    },
    {
      "cell_type": "markdown",
      "id": "a11cdb00",
      "metadata": {
        "id": "a11cdb00"
      },
      "source": [
        "### Performing the classification"
      ]
    },
    {
      "cell_type": "code",
      "execution_count": null,
      "id": "3ce116cd",
      "metadata": {
        "id": "3ce116cd",
        "colab": {
          "base_uri": "https://localhost:8080/"
        },
        "outputId": "ebfdf2eb-48a5-46a7-a16b-946cc5eee531"
      },
      "outputs": [
        {
          "output_type": "execute_result",
          "data": {
            "text/plain": [
              "MultinomialNB()"
            ]
          },
          "metadata": {},
          "execution_count": 333
        }
      ],
      "source": [
        "# Create an instance of the Multinomial Naive Bayes classifier\n",
        "clf = MultinomialNB()\n",
        "# clf = MultinomialNB(class_prior = np.array([0.6, 0.4]))\n",
        "\n",
        "# Fit the model to the training data\n",
        "clf.fit(x_train_transf, y_train)"
      ]
    },
    {
      "cell_type": "code",
      "execution_count": null,
      "id": "4f6bd4a7",
      "metadata": {
        "id": "4f6bd4a7",
        "colab": {
          "base_uri": "https://localhost:8080/"
        },
        "outputId": "35a2c5be-c8e2-48ec-82df-ff00e2db4656"
      },
      "outputs": [
        {
          "output_type": "execute_result",
          "data": {
            "text/plain": [
              "array([0.00580271, 0.7311412 , 0.12862669, 0.00096712, 0.11605416,\n",
              "       0.01257253, 0.00483559])"
            ]
          },
          "metadata": {},
          "execution_count": 334
        }
      ],
      "source": [
        "# Print the class priors.\n",
        "np.exp(clf.class_log_prior_)"
      ]
    },
    {
      "cell_type": "code",
      "execution_count": null,
      "id": "11fd67d2",
      "metadata": {
        "id": "11fd67d2",
        "colab": {
          "base_uri": "https://localhost:8080/"
        },
        "outputId": "119e77b6-5c8b-4708-b24d-12fc4684de55"
      },
      "outputs": [
        {
          "output_type": "execute_result",
          "data": {
            "text/plain": [
              "{'alpha': 1.0, 'class_prior': None, 'fit_prior': True}"
            ]
          },
          "metadata": {},
          "execution_count": 335
        }
      ],
      "source": [
        "# Return the parameters of the classifier\n",
        "clf.get_params()"
      ]
    },
    {
      "cell_type": "markdown",
      "id": "0b0d523f",
      "metadata": {
        "id": "0b0d523f"
      },
      "source": [
        "### Performing the evaluation on the test dataset"
      ]
    },
    {
      "cell_type": "code",
      "execution_count": null,
      "id": "47a3d7bf",
      "metadata": {
        "id": "47a3d7bf"
      },
      "outputs": [],
      "source": [
        "# Predict the target of the observations in the test set\n",
        "y_test_pred = clf.predict(x_test_transf)"
      ]
    },
    {
      "cell_type": "code",
      "execution_count": null,
      "id": "344760ab",
      "metadata": {
        "id": "344760ab",
        "colab": {
          "base_uri": "https://localhost:8080/",
          "height": 279
        },
        "outputId": "b4b06b21-ecc7-46fb-b4ed-e6e08b150ee2"
      },
      "outputs": [
        {
          "output_type": "display_data",
          "data": {
            "text/plain": [
              "<Figure size 432x288 with 2 Axes>"
            ],
            "image/png": "[encoded data removed]"
          },
          "metadata": {
            "needs_background": "light"
          }
        }
      ],
      "source": [
        "# Drop the seaborn style, so that we remove the white lines passing throguh the numbers \n",
        "sns.reset_orig()\n",
        "\n",
        "# Create the confusion matrix by providing the true and the predicted values as arguments.\n",
        "ConfusionMatrixDisplay.from_predictions(\n",
        "    y_test, y_test_pred,\n",
        "    labels = clf.classes_,\n",
        "    cmap = 'magma'\n",
        ");"
      ]
    },
    {
      "cell_type": "code",
      "source": [
        "# The classification report consists of the precision, recall and f1-score of each class as well as\n",
        "# the overall accuracy of the model.\n",
        "print(classification_report(y_test, y_test_pred, target_names = ['1','2','3','4','5']))"
      ],
      "metadata": {
        "colab": {
          "base_uri": "https://localhost:8080/"
        },
        "id": "ocColAnIIsYU",
        "outputId": "b1f06939-9667-4cef-a4de-aa39aceeca2b"
      },
      "id": "ocColAnIIsYU",
      "execution_count": null,
      "outputs": [
        {
          "output_type": "stream",
          "name": "stdout",
          "text": [
            "              precision    recall  f1-score   support\n",
            "\n",
            "           1       0.97      0.92      0.94       201\n",
            "           2       0.74      0.88      0.81        26\n",
            "           3       0.00      0.00      0.00         1\n",
            "           4       0.72      0.93      0.81        30\n",
            "           5       0.00      0.00      0.00         1\n",
            "\n",
            "    accuracy                           0.91       259\n",
            "   macro avg       0.49      0.55      0.51       259\n",
            "weighted avg       0.91      0.91      0.91       259\n",
            "\n"
          ]
        },
        {
          "output_type": "stream",
          "name": "stderr",
          "text": [
            "/usr/local/lib/python3.8/dist-packages/sklearn/metrics/_classification.py:1318: UndefinedMetricWarning: Precision and F-score are ill-defined and being set to 0.0 in labels with no predicted samples. Use `zero_division` parameter to control this behavior.\n",
            "  _warn_prf(average, modifier, msg_start, len(result))\n",
            "/usr/local/lib/python3.8/dist-packages/sklearn/metrics/_classification.py:1318: UndefinedMetricWarning: Precision and F-score are ill-defined and being set to 0.0 in labels with no predicted samples. Use `zero_division` parameter to control this behavior.\n",
            "  _warn_prf(average, modifier, msg_start, len(result))\n",
            "/usr/local/lib/python3.8/dist-packages/sklearn/metrics/_classification.py:1318: UndefinedMetricWarning: Precision and F-score are ill-defined and being set to 0.0 in labels with no predicted samples. Use `zero_division` parameter to control this behavior.\n",
            "  _warn_prf(average, modifier, msg_start, len(result))\n"
          ]
        }
      ]
    },
    {
      "cell_type": "code",
      "source": [
        "x_test= pd.Series(x_test).reset_index(drop = True)\n",
        "y_test= pd.Series(y_test).reset_index(drop = True)\n",
        "y_test_pred= pd.Series(y_test_pred)\n",
        "                   \n",
        "output = pd.concat([x_test, y_test, y_test_pred], axis=1)\n"
      ],
      "metadata": {
        "id": "xAJxTHCH-q6Q"
      },
      "id": "xAJxTHCH-q6Q",
      "execution_count": null,
      "outputs": []
    },
    {
      "cell_type": "code",
      "source": [
        "output.to_excel(\"schall_5.xlsx\")"
      ],
      "metadata": {
        "id": "iyunPaonBOCE"
      },
      "id": "iyunPaonBOCE",
      "execution_count": null,
      "outputs": []
    },
    {
      "cell_type": "markdown",
      "id": "820ec641",
      "metadata": {
        "id": "820ec641"
      },
      "source": [
        "### Creating probability-distribution figures"
      ]
    },
    {
      "cell_type": "code",
      "execution_count": null,
      "id": "f01357a5",
      "metadata": {
        "id": "f01357a5",
        "colab": {
          "base_uri": "https://localhost:8080/",
          "height": 348
        },
        "outputId": "f1d50729-778b-42b3-bc7e-32e2c9888702"
      },
      "outputs": [
        {
          "output_type": "display_data",
          "data": {
            "text/plain": [
              "<Figure size 864x360 with 2 Axes>"
            ],
            "image/png": "[encoded data removed]"
          },
          "metadata": {}
        }
      ],
      "source": [
        "# For each ovservation, store its probability of being a spam. Round it to 3 digits after the decimal points.\n",
        "# These probabilities will later serve as the x-coordinates of a scatter plot\n",
        "spam_proba = clf.predict_proba(x_test_transf).round(3)[:,2];\n",
        "\n",
        "# Create a new data frame which will store the true classes, the predicted classes and the predicted probability\n",
        "# for an observation to belong to the spam class\n",
        "df_scatter = pd.DataFrame()\n",
        "\n",
        "# Create the columns of the data frame\n",
        "df_scatter['True class'] = y_test\n",
        "df_scatter['Predicted class'] = y_test_pred\n",
        "df_scatter['Predicted probability (spam)'] = spam_proba\n",
        "\n",
        "# Reset the index of the data frame, so that the indexing is sequential\n",
        "df_scatter = df_scatter.reset_index(drop = True)\n",
        "\n",
        "# Define two palettes for the different plots\n",
        "palette_0 = sns.color_palette(['#000000'])\n",
        "palette_1 = sns.color_palette(['#FF0000'])\n",
        "\n",
        "# Create two new data frames. The first one stores the samples whose true class is 0.\n",
        "# The second one stores the samples whose true class is 1.\n",
        "df_scatter_0 = df_scatter[df_scatter['True class'] == 'DT-2FL'].reset_index(drop = True)\n",
        "df_scatter_1 = df_scatter[df_scatter['True class'] == 'DT-1FL'].reset_index(drop = True)\n",
        "\n",
        "# Set the seaborn style\n",
        "sns.set()\n",
        "\n",
        "# Create two subfigures, so that they are arranged in 2 rows and 1 column.\n",
        "# Set the size of the figures\n",
        "fig, (ax1, ax2) = plt.subplots(2, 1, figsize=(12,5))\n",
        "fig.tight_layout(pad = 3)\n",
        "\n",
        "# Create a scatter plot.\n",
        "# On the x-axis, we have the predicted probability of a comment being a spam.\n",
        "# The y-axis takes only one value - zero. We create an array full of zeros having a length equal to \n",
        "# the number of samples whose true class is 0.\n",
        "# The 'data' parameter specifies the dataset we are drawing the columns from.\n",
        "# The 'hue' parameter specifies the feature based on which the points are going to be colored. In this case,\n",
        "# this feature has only a single class - the 0 class.\n",
        "# The 's' parameter specifies the size of the points.\n",
        "# The 'markers' parameter determines the shape of the points.\n",
        "# The 'palette' parameter specifies the colors to be used in the plot.\n",
        "# The 'style' parameter connects markers to classes.\n",
        "# We have decided to set the 'legend' parameter equal to False as we have only one class in the plot. \n",
        "# We decide to remove the ticks from the y-axis as they can be chosen arbitrarily.\n",
        "sns.scatterplot(x = 'Predicted probability (spam)', \n",
        "                y = np.zeros(df_scatter_0.shape[0]), \n",
        "                data = df_scatter_0,\n",
        "                hue = 'True class', \n",
        "                s = 50,\n",
        "                markers = ['o'],\n",
        "                palette = palette_0,\n",
        "                style = 'True class',\n",
        "                legend = False, \n",
        "                ax = ax1).set(yticklabels=[])\n",
        "\n",
        "# Set a title above the first plot.\n",
        "ax1.set_title('Probability distribution of comments belonging to the true \\'ham\\' class')\n",
        "\n",
        "# Create a red vertical dashed line passing through the point x = 0.5\n",
        "# The first parameter specifies the x-coordinate.\n",
        "# The second and third parameters specify the min and the max y-coordinates.\n",
        "# We choose a dashed linestyle.\n",
        "# We color the line in red.\n",
        "ax1.vlines(0.5, -1, 1, linestyles = 'dashed', colors = 'red');\n",
        "\n",
        "# The comments above apply to this plot. The code is adapted to the spam class\n",
        "sns.scatterplot(x = 'Predicted probability (spam)', \n",
        "                y = np.zeros(df_scatter_1.shape[0]), \n",
        "                hue = 'True class', \n",
        "                data = df_scatter_1,\n",
        "                s = 50,\n",
        "                palette = palette_1,\n",
        "                markers = ['X'],\n",
        "                style = 'True class',\n",
        "                legend = False, \n",
        "                ax = ax2).set(yticklabels=[])\n",
        "\n",
        "# Set a title above the second plot.\n",
        "ax2.set_title('Probability distribution of comments belonging to the true \\'spam\\' class')\n",
        "\n",
        "# Create a red vertical dahsed line for the second plot\n",
        "ax2.vlines(0.5, -1, 1, linestyles = 'dashed', colors = 'red');"
      ]
    }
  ],
  "metadata": {
    "kernelspec": {
      "display_name": "Python 3 (ipykernel)",
      "language": "python",
      "name": "python3"
    },
    "language_info": {
      "codemirror_mode": {
        "name": "ipython",
        "version": 3
      },
      "file_extension": ".py",
      "mimetype": "text/x-python",
      "name": "python",
      "nbconvert_exporter": "python",
      "pygments_lexer": "ipython3",
      "version": "3.8.8"
    },
    "colab": {
      "provenance": [],
      "toc_visible": true,
      "include_colab_link": true
    }
  },
  "nbformat": 4,
  "nbformat_minor": 5
}